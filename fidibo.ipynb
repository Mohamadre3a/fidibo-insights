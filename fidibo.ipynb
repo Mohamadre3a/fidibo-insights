{
 "cells": [
  {
   "cell_type": "markdown",
   "metadata": {},
   "source": [
    "# Fidibo insights"
   ]
  },
  {
   "cell_type": "markdown",
   "metadata": {},
   "source": [
    "### calculate diffrence in book price"
   ]
  },
  {
   "cell_type": "code",
   "execution_count": 6,
   "metadata": {},
   "outputs": [
    {
     "data": {
      "text/html": [
       "<div>\n",
       "<style scoped>\n",
       "    .dataframe tbody tr th:only-of-type {\n",
       "        vertical-align: middle;\n",
       "    }\n",
       "\n",
       "    .dataframe tbody tr th {\n",
       "        vertical-align: top;\n",
       "    }\n",
       "\n",
       "    .dataframe thead th {\n",
       "        text-align: right;\n",
       "    }\n",
       "</style>\n",
       "<table border=\"1\" class=\"dataframe\">\n",
       "  <thead>\n",
       "    <tr style=\"text-align: right;\">\n",
       "      <th></th>\n",
       "      <th>title</th>\n",
       "      <th>price</th>\n",
       "      <th>paper_price</th>\n",
       "      <th>isbn</th>\n",
       "      <th>rating</th>\n",
       "      <th>page</th>\n",
       "      <th>publisher</th>\n",
       "      <th>price_diff</th>\n",
       "    </tr>\n",
       "  </thead>\n",
       "  <tbody>\n",
       "    <tr>\n",
       "      <th>0</th>\n",
       "      <td>انسان در جستجوی معنی</td>\n",
       "      <td>8000</td>\n",
       "      <td>15000.0</td>\n",
       "      <td>9789646104266</td>\n",
       "      <td>4.38</td>\n",
       "      <td>255.0</td>\n",
       "      <td>انتشارات درسا</td>\n",
       "      <td>7000.0</td>\n",
       "    </tr>\n",
       "    <tr>\n",
       "      <th>1</th>\n",
       "      <td>مردی به نام اوه</td>\n",
       "      <td>8500</td>\n",
       "      <td>24500.0</td>\n",
       "      <td>9786007141779</td>\n",
       "      <td>4.34</td>\n",
       "      <td>392.0</td>\n",
       "      <td>نشر نون</td>\n",
       "      <td>16000.0</td>\n",
       "    </tr>\n",
       "    <tr>\n",
       "      <th>2</th>\n",
       "      <td>درنگ نکن انجامش بده</td>\n",
       "      <td>12000</td>\n",
       "      <td>20000.0</td>\n",
       "      <td>9786005253139</td>\n",
       "      <td>4.15</td>\n",
       "      <td>97.0</td>\n",
       "      <td>انتشارات سیته</td>\n",
       "      <td>8000.0</td>\n",
       "    </tr>\n",
       "    <tr>\n",
       "      <th>3</th>\n",
       "      <td>سیزده دلیل برای اینکه</td>\n",
       "      <td>5900</td>\n",
       "      <td>NaN</td>\n",
       "      <td>NaN</td>\n",
       "      <td>3.74</td>\n",
       "      <td>300.0</td>\n",
       "      <td>ناشرمولف</td>\n",
       "      <td>NaN</td>\n",
       "    </tr>\n",
       "    <tr>\n",
       "      <th>4</th>\n",
       "      <td>تاریخ ایران مدرن</td>\n",
       "      <td>15000</td>\n",
       "      <td>25000.0</td>\n",
       "      <td>9789641851264</td>\n",
       "      <td>4.64</td>\n",
       "      <td>352.0</td>\n",
       "      <td>نشر نی</td>\n",
       "      <td>10000.0</td>\n",
       "    </tr>\n",
       "  </tbody>\n",
       "</table>\n",
       "</div>"
      ],
      "text/plain": [
       "                   title  price  paper_price           isbn  rating   page  \\\n",
       "0   انسان در جستجوی معنی   8000      15000.0  9789646104266    4.38  255.0   \n",
       "1        مردی به نام اوه   8500      24500.0  9786007141779    4.34  392.0   \n",
       "2    درنگ نکن انجامش بده  12000      20000.0  9786005253139    4.15   97.0   \n",
       "3  سیزده دلیل برای اینکه   5900          NaN            NaN    3.74  300.0   \n",
       "4       تاریخ ایران مدرن  15000      25000.0  9789641851264    4.64  352.0   \n",
       "\n",
       "       publisher  price_diff  \n",
       "0  انتشارات درسا      7000.0  \n",
       "1        نشر نون     16000.0  \n",
       "2  انتشارات سیته      8000.0  \n",
       "3       ناشرمولف         NaN  \n",
       "4         نشر نی     10000.0  "
      ]
     },
     "execution_count": 6,
     "metadata": {},
     "output_type": "execute_result"
    }
   ],
   "source": [
    "import pandas as pd\n",
    "import numpy as np\n",
    "\n",
    "data = pd.read_csv('fidibo_books.csv')\n",
    "data['price_diff'] = data['paper_price'] - data['price']\n",
    "data=data.replace('NaN',np.nan)\n",
    "data.head()"
   ]
  },
  {
   "cell_type": "markdown",
   "metadata": {},
   "source": [
    "### histogram plots for columns"
   ]
  },
  {
   "cell_type": "code",
   "execution_count": 7,
   "metadata": {},
   "outputs": [
    {
     "data": {
      "image/png": "[encoded data removed]",
      "text/plain": [
       "<Figure size 432x288 with 4 Axes>"
      ]
     },
     "metadata": {
      "needs_background": "light"
     },
     "output_type": "display_data"
    }
   ],
   "source": [
    "import seaborn as sns\n",
    "import matplotlib.pyplot as plt\n",
    "\n",
    "plt.subplot(2, 2, 1)\n",
    "plt.hist(data['price'], 50, facecolor='g')\n",
    "plt.title('Histogram of price')\n",
    "plt.subplot(2, 2, 2)\n",
    "plt.hist(data['paper_price'], 50, facecolor='b')\n",
    "plt.title('Histogram of paper_price')\n",
    "plt.subplot(2, 2, 3)\n",
    "plt.hist(data['rating'], 50, facecolor='y')\n",
    "plt.title('Histogram of rating')\n",
    "plt.subplot(2, 2, 4)\n",
    "plt.hist(data['price_diff'], 50, facecolor='r')\n",
    "plt.title('Histogram of price_diff')\n",
    "plt.tight_layout()\n",
    "plt.savefig('hists.png')\n",
    "plt.show()\n"
   ]
  },
  {
   "cell_type": "markdown",
   "metadata": {},
   "source": [
    "apparently all data columns have some points out of range but are not an outlier.\n",
    "but a rating histogram point is too high so we need to investigate this plot more:"
   ]
  },
  {
   "cell_type": "code",
   "execution_count": 8,
   "metadata": {},
   "outputs": [
    {
     "data": {
      "image/png": "[encoded data removed]",
      "text/plain": [
       "<Figure size 432x288 with 1 Axes>"
      ]
     },
     "metadata": {
      "needs_background": "light"
     },
     "output_type": "display_data"
    }
   ],
   "source": [
    "plt.hist(data['rating'], 100, facecolor='y')\n",
    "plt.savefig('rating_hist.png')\n",
    "plt.show()"
   ]
  },
  {
   "cell_type": "code",
   "execution_count": 9,
   "metadata": {},
   "outputs": [
    {
     "data": {
      "text/html": [
       "<div>\n",
       "<style scoped>\n",
       "    .dataframe tbody tr th:only-of-type {\n",
       "        vertical-align: middle;\n",
       "    }\n",
       "\n",
       "    .dataframe tbody tr th {\n",
       "        vertical-align: top;\n",
       "    }\n",
       "\n",
       "    .dataframe thead th {\n",
       "        text-align: right;\n",
       "    }\n",
       "</style>\n",
       "<table border=\"1\" class=\"dataframe\">\n",
       "  <thead>\n",
       "    <tr style=\"text-align: right;\">\n",
       "      <th></th>\n",
       "      <th>title</th>\n",
       "      <th>price</th>\n",
       "      <th>paper_price</th>\n",
       "      <th>isbn</th>\n",
       "      <th>rating</th>\n",
       "      <th>page</th>\n",
       "      <th>publisher</th>\n",
       "      <th>price_diff</th>\n",
       "    </tr>\n",
       "  </thead>\n",
       "  <tbody>\n",
       "    <tr>\n",
       "      <th>67</th>\n",
       "      <td>چای نعنا</td>\n",
       "      <td>15000</td>\n",
       "      <td>25000.0</td>\n",
       "      <td>۹۷۸۶۰۰۸۴۸۲۰۷۹</td>\n",
       "      <td>5.0</td>\n",
       "      <td>168.0</td>\n",
       "      <td>نشر مثلث</td>\n",
       "      <td>10000.0</td>\n",
       "    </tr>\n",
       "    <tr>\n",
       "      <th>70</th>\n",
       "      <td>هری‌پاتر و زندانی آزکابان</td>\n",
       "      <td>25000</td>\n",
       "      <td>31000.0</td>\n",
       "      <td>9789645757012</td>\n",
       "      <td>5.0</td>\n",
       "      <td>496.0</td>\n",
       "      <td>انتشارات کتابسرای تندیس</td>\n",
       "      <td>6000.0</td>\n",
       "    </tr>\n",
       "    <tr>\n",
       "      <th>365</th>\n",
       "      <td>ماتریکس الهی</td>\n",
       "      <td>12500</td>\n",
       "      <td>25000.0</td>\n",
       "      <td>9786006721309</td>\n",
       "      <td>5.0</td>\n",
       "      <td>264.0</td>\n",
       "      <td>نشر نامک</td>\n",
       "      <td>12500.0</td>\n",
       "    </tr>\n",
       "    <tr>\n",
       "      <th>372</th>\n",
       "      <td>آن‌سوی اتهام</td>\n",
       "      <td>15000</td>\n",
       "      <td>NaN</td>\n",
       "      <td>9643126226</td>\n",
       "      <td>5.0</td>\n",
       "      <td>288.0</td>\n",
       "      <td>نشر نی</td>\n",
       "      <td>NaN</td>\n",
       "    </tr>\n",
       "    <tr>\n",
       "      <th>388</th>\n",
       "      <td>طریق شاهان</td>\n",
       "      <td>15000</td>\n",
       "      <td>35000.0</td>\n",
       "      <td>9786006225845</td>\n",
       "      <td>5.0</td>\n",
       "      <td>632.0</td>\n",
       "      <td>آذرباد</td>\n",
       "      <td>20000.0</td>\n",
       "    </tr>\n",
       "  </tbody>\n",
       "</table>\n",
       "</div>"
      ],
      "text/plain": [
       "                         title  price  paper_price           isbn  rating  \\\n",
       "67                    چای نعنا  15000      25000.0  ۹۷۸۶۰۰۸۴۸۲۰۷۹     5.0   \n",
       "70   هری‌پاتر و زندانی آزکابان  25000      31000.0  9789645757012     5.0   \n",
       "365               ماتریکس الهی  12500      25000.0  9786006721309     5.0   \n",
       "372               آن‌سوی اتهام  15000          NaN     9643126226     5.0   \n",
       "388                 طریق شاهان  15000      35000.0  9786006225845     5.0   \n",
       "\n",
       "      page                publisher  price_diff  \n",
       "67   168.0                 نشر مثلث     10000.0  \n",
       "70   496.0  انتشارات کتابسرای تندیس      6000.0  \n",
       "365  264.0                 نشر نامک     12500.0  \n",
       "372  288.0                   نشر نی         NaN  \n",
       "388  632.0                   آذرباد     20000.0  "
      ]
     },
     "execution_count": 9,
     "metadata": {},
     "output_type": "execute_result"
    }
   ],
   "source": [
    "rating = data[data['rating'] == 5]\n",
    "rating.head()"
   ]
  },
  {
   "cell_type": "markdown",
   "metadata": {},
   "source": [
    "so about 700 data rows are 5, it might be because fidibo ratings has a default value of 5\n",
    "but after checking these rows they are fine and it's not default value."
   ]
  },
  {
   "cell_type": "markdown",
   "metadata": {},
   "source": [
    "### finding relationship between columns"
   ]
  },
  {
   "cell_type": "code",
   "execution_count": 10,
   "metadata": {},
   "outputs": [
    {
     "data": {
      "image/png": "[encoded data removed]",
      "text/plain": [
       "<Figure size 360x360 with 1 Axes>"
      ]
     },
     "metadata": {
      "needs_background": "light"
     },
     "output_type": "display_data"
    },
    {
     "data": {
      "image/png": "[encoded data removed]",
      "text/plain": [
       "<Figure size 360x360 with 1 Axes>"
      ]
     },
     "metadata": {
      "needs_background": "light"
     },
     "output_type": "display_data"
    }
   ],
   "source": [
    "sns.lmplot(x=\"price\", y=\"rating\", data=data)\n",
    "plt.show()\n",
    "sns.lmplot(x=\"rating\", y=\"price_diff\", data=data)\n",
    "plt.show()"
   ]
  },
  {
   "cell_type": "markdown",
   "metadata": {},
   "source": [
    "no pattern in these two plot... next we should check its columns correlation\n",
    "### columns correlation"
   ]
  },
  {
   "cell_type": "code",
   "execution_count": 11,
   "metadata": {},
   "outputs": [
    {
     "data": {
      "image/png": "[encoded data removed]",
      "text/plain": [
       "<Figure size 432x288 with 2 Axes>"
      ]
     },
     "metadata": {
      "needs_background": "light"
     },
     "output_type": "display_data"
    }
   ],
   "source": [
    "corr = data.corr()\n",
    "sns.heatmap(corr)\n",
    "plt.savefig('corr.png')\n",
    "plt.show()"
   ]
  },
  {
   "cell_type": "markdown",
   "metadata": {},
   "source": [
    "obviously paper price and price have high correlation but the intresting part is correlation between (price diff,price) and (price diff,paper price). paper price has more corr with price diff this shows that fidibo tries to balance prices in a way that higher paper price have more price diff. another thing to notice is that page has corr with price which is reasonable."
   ]
  },
  {
   "cell_type": "code",
   "execution_count": 19,
   "metadata": {},
   "outputs": [
    {
     "data": {
      "image/png": "[encoded data removed]",
      "text/plain": [
       "<Figure size 360x360 with 1 Axes>"
      ]
     },
     "metadata": {
      "needs_background": "light"
     },
     "output_type": "display_data"
    },
    {
     "data": {
      "image/png": "[encoded data removed]",
      "text/plain": [
       "<Figure size 360x360 with 1 Axes>"
      ]
     },
     "metadata": {
      "needs_background": "light"
     },
     "output_type": "display_data"
    }
   ],
   "source": [
    "\n",
    "lm1 = sns.lmplot(x=\"paper_price\", y=\"price_diff\", data=data)\n",
    "fig1 = lm1.fig \n",
    "fig1.suptitle(\"paper_price and price_diff\")\n",
    "plt.savefig('pp and pd.png')\n",
    "\n",
    "lm2 = sns.lmplot(x=\"price\", y=\"price_diff\", data=data)\n",
    "fig2 = lm2.fig \n",
    "fig2.suptitle('price and price_diff')\n",
    "plt.savefig('p and pd.png')\n",
    "plt.show()"
   ]
  },
  {
   "cell_type": "markdown",
   "metadata": {},
   "source": [
    "## Model data to estimate price\n",
    "### LASSO\n",
    "one thing that we can do is to estimate price of books by lasso regression or use pca to do a feature melting"
   ]
  },
  {
   "cell_type": "code",
   "execution_count": 36,
   "metadata": {},
   "outputs": [
    {
     "name": "stdout",
     "output_type": "stream",
     "text": [
      "1515.6106895657686\n",
      "[30.61701954 -2.54773962 10.74892275]\n",
      "66.62684445814644 %\n"
     ]
    },
    {
     "name": "stderr",
     "output_type": "stream",
     "text": [
      "/Library/Frameworks/Python.framework/Versions/3.7/lib/python3.7/site-packages/ipykernel_launcher.py:6: SettingWithCopyWarning: \n",
      "A value is trying to be set on a copy of a slice from a DataFrame.\n",
      "Try using .loc[row_indexer,col_indexer] = value instead\n",
      "\n",
      "See the caveats in the documentation: http://pandas.pydata.org/pandas-docs/stable/indexing.html#indexing-view-versus-copy\n",
      "  \n",
      "/Library/Frameworks/Python.framework/Versions/3.7/lib/python3.7/site-packages/ipykernel_launcher.py:7: SettingWithCopyWarning: \n",
      "A value is trying to be set on a copy of a slice from a DataFrame.\n",
      "Try using .loc[row_indexer,col_indexer] = value instead\n",
      "\n",
      "See the caveats in the documentation: http://pandas.pydata.org/pandas-docs/stable/indexing.html#indexing-view-versus-copy\n",
      "  import sys\n"
     ]
    }
   ],
   "source": [
    "from sklearn import linear_model\n",
    "from sklearn.model_selection import train_test_split\n",
    "\n",
    "y = data[\"price\"]\n",
    "X = data.iloc[:,[2,4,5]]\n",
    "X['paper_price'] = X['paper_price']/100\n",
    "X['rating'] = X['rating']*100\n",
    "X = X.fillna(X.mean())\n",
    "\n",
    "X_train, X_test, y_train, y_test = train_test_split(X, y, test_size=0.2, random_state=101)\n",
    "\n",
    "clf = linear_model.Lasso(alpha=0.1)\n",
    "clf.fit(X_train,y_train)\n",
    "\n",
    "\n",
    "print(clf.intercept_) \n",
    "print(clf.coef_)\n",
    "y_pred = clf.predict(X_test) \n",
    "test_lasso_results = pd.DataFrame({'Actual': y_test, 'Predicted': y_pred})\n",
    "accuracy = clf.score(X_test,y_test)\n",
    "print(accuracy*100,'%')"
   ]
  },
  {
   "cell_type": "code",
   "execution_count": 39,
   "metadata": {},
   "outputs": [
    {
     "name": "stdout",
     "output_type": "stream",
     "text": [
      "   paper_price  rating   page\n",
      "0   150.000000   438.0  255.0\n",
      "1   245.000000   434.0  392.0\n",
      "2   200.000000   415.0   97.0\n",
      "3   188.699219   374.0  300.0\n",
      "4   250.000000   464.0  352.0\n"
     ]
    },
    {
     "name": "stderr",
     "output_type": "stream",
     "text": [
      "/Library/Frameworks/Python.framework/Versions/3.7/lib/python3.7/site-packages/ipykernel_launcher.py:6: SettingWithCopyWarning: \n",
      "A value is trying to be set on a copy of a slice from a DataFrame.\n",
      "Try using .loc[row_indexer,col_indexer] = value instead\n",
      "\n",
      "See the caveats in the documentation: http://pandas.pydata.org/pandas-docs/stable/indexing.html#indexing-view-versus-copy\n",
      "  \n",
      "/Library/Frameworks/Python.framework/Versions/3.7/lib/python3.7/site-packages/ipykernel_launcher.py:7: SettingWithCopyWarning: \n",
      "A value is trying to be set on a copy of a slice from a DataFrame.\n",
      "Try using .loc[row_indexer,col_indexer] = value instead\n",
      "\n",
      "See the caveats in the documentation: http://pandas.pydata.org/pandas-docs/stable/indexing.html#indexing-view-versus-copy\n",
      "  import sys\n"
     ]
    },
    {
     "data": {
      "text/plain": [
       "array([0.70746281, 0.218839  ])"
      ]
     },
     "execution_count": 39,
     "metadata": {},
     "output_type": "execute_result"
    }
   ],
   "source": [
    "from sklearn.decomposition import PCA\n",
    "from sklearn.model_selection import train_test_split\n",
    "\n",
    "y = data[\"price\"]\n",
    "X = data.iloc[:,[2,4,5]]\n",
    "X['paper_price'] = X['paper_price']/100\n",
    "X['rating'] = X['rating']*100\n",
    "X = X.fillna(X.mean())\n",
    "\n",
    "\n",
    "X_train, X_test, y_train, y_test = train_test_split(X, y, test_size=0.2, random_state=101)\n",
    "\n",
    "pca=PCA(n_components=2) \n",
    "X_train = pca.fit(X_train) \n",
    "X_test=pca.transform(X_test) \n",
    "pca.explained_variance_ratio_  "
   ]
  },
  {
   "cell_type": "markdown",
   "metadata": {},
   "source": [
    "It can be seen that first principal component is responsible for 70% of our model so it's safe to convert it to one component"
   ]
  },
  {
   "cell_type": "code",
   "execution_count": 37,
   "metadata": {},
   "outputs": [
    {
     "name": "stderr",
     "output_type": "stream",
     "text": [
      "/Library/Frameworks/Python.framework/Versions/3.7/lib/python3.7/site-packages/ipykernel_launcher.py:3: SettingWithCopyWarning: \n",
      "A value is trying to be set on a copy of a slice from a DataFrame.\n",
      "Try using .loc[row_indexer,col_indexer] = value instead\n",
      "\n",
      "See the caveats in the documentation: http://pandas.pydata.org/pandas-docs/stable/indexing.html#indexing-view-versus-copy\n",
      "  This is separate from the ipykernel package so we can avoid doing imports until\n",
      "/Library/Frameworks/Python.framework/Versions/3.7/lib/python3.7/site-packages/ipykernel_launcher.py:4: SettingWithCopyWarning: \n",
      "A value is trying to be set on a copy of a slice from a DataFrame.\n",
      "Try using .loc[row_indexer,col_indexer] = value instead\n",
      "\n",
      "See the caveats in the documentation: http://pandas.pydata.org/pandas-docs/stable/indexing.html#indexing-view-versus-copy\n",
      "  after removing the cwd from sys.path.\n"
     ]
    }
   ],
   "source": [
    "y = data[\"price\"]\n",
    "X = data.iloc[:,[2,4,5]]\n",
    "X['paper_price'] = X['paper_price']/100\n",
    "X['rating'] = X['rating']*100\n",
    "X = X.fillna(X.mean())\n",
    "X.head()\n",
    "\n",
    "\n",
    "X_train, X_test, y_train, y_test = train_test_split(X, y, test_size=0.2, random_state=101)\n",
    "pca=PCA(n_components=1) \n",
    "pca.fit(X_train) \n",
    "X_train=pca.transform(X_train) \n",
    "X_test=pca.transform(X_test)"
   ]
  },
  {
   "cell_type": "markdown",
   "metadata": {},
   "source": [
    "### Regression "
   ]
  },
  {
   "cell_type": "code",
   "execution_count": 38,
   "metadata": {},
   "outputs": [
    {
     "name": "stdout",
     "output_type": "stream",
     "text": [
      "8888.230972865651\n",
      "[25.22520831]\n",
      "59.16127391905792 %\n"
     ]
    },
    {
     "data": {
      "image/png": "[encoded data removed]",
      "text/plain": [
       "<Figure size 432x288 with 1 Axes>"
      ]
     },
     "metadata": {
      "needs_background": "light"
     },
     "output_type": "display_data"
    }
   ],
   "source": [
    "from sklearn.linear_model import LinearRegression  \n",
    "regressor = LinearRegression()  \n",
    "regressor.fit(X_train, y_train)\n",
    "print(regressor.intercept_) \n",
    "print(regressor.coef_)\n",
    "y_pred = regressor.predict(X_test) \n",
    "test_results = pd.DataFrame({'Actual': y_test, 'Predicted': y_pred})\n",
    "accuracy = regressor.score(X_test,y_test)\n",
    "print(accuracy*100,'%')\n",
    "plt.scatter(X_train, y_train,color='b')\n",
    "plt.plot(X_test, y_pred,color='k')\n",
    "plt.savefig('result_reg.png')\n",
    "plt.show()\n"
   ]
  },
  {
   "cell_type": "markdown",
   "metadata": {},
   "source": [
    "good :)"
   ]
  },
  {
   "cell_type": "markdown",
   "metadata": {},
   "source": [
    "## Publishers correlation with the price and more"
   ]
  },
  {
   "cell_type": "code",
   "execution_count": 25,
   "metadata": {},
   "outputs": [
    {
     "data": {
      "image/png": "[encoded data removed]",
      "text/plain": [
       "<Figure size 432x288 with 1 Axes>"
      ]
     },
     "metadata": {
      "needs_background": "light"
     },
     "output_type": "display_data"
    },
    {
     "data": {
      "image/png": "[encoded data removed]",
      "text/plain": [
       "<Figure size 432x288 with 1 Axes>"
      ]
     },
     "metadata": {
      "needs_background": "light"
     },
     "output_type": "display_data"
    }
   ],
   "source": [
    "publishers_data =  data.groupby('publisher').agg({'price': 'mean'})\n",
    "plt.hist(publishers_data['price'], 100, facecolor='k')\n",
    "plt.show()\n",
    "sns.swarmplot(x='publisher',y='price',data=data)\n",
    "plt.show()"
   ]
  },
  {
   "cell_type": "markdown",
   "metadata": {},
   "source": [
    "some publishers' books are more expensive than usual let's see what they are"
   ]
  },
  {
   "cell_type": "code",
   "execution_count": 26,
   "metadata": {},
   "outputs": [
    {
     "data": {
      "text/html": [
       "<div>\n",
       "<style scoped>\n",
       "    .dataframe tbody tr th:only-of-type {\n",
       "        vertical-align: middle;\n",
       "    }\n",
       "\n",
       "    .dataframe tbody tr th {\n",
       "        vertical-align: top;\n",
       "    }\n",
       "\n",
       "    .dataframe thead th {\n",
       "        text-align: right;\n",
       "    }\n",
       "</style>\n",
       "<table border=\"1\" class=\"dataframe\">\n",
       "  <thead>\n",
       "    <tr style=\"text-align: right;\">\n",
       "      <th></th>\n",
       "      <th>price</th>\n",
       "    </tr>\n",
       "    <tr>\n",
       "      <th>publisher</th>\n",
       "      <th></th>\n",
       "    </tr>\n",
       "  </thead>\n",
       "  <tbody>\n",
       "    <tr>\n",
       "      <th>انتشارات سنجش و دانش</th>\n",
       "      <td>33180.000000</td>\n",
       "    </tr>\n",
       "    <tr>\n",
       "      <th>فیدیبو</th>\n",
       "      <td>30931.774194</td>\n",
       "    </tr>\n",
       "    <tr>\n",
       "      <th>موسسه فرهنگی هنری سانازسانيا</th>\n",
       "      <td>45000.000000</td>\n",
       "    </tr>\n",
       "    <tr>\n",
       "      <th>نشر بارسا</th>\n",
       "      <td>35000.000000</td>\n",
       "    </tr>\n",
       "    <tr>\n",
       "      <th>نشر تیر</th>\n",
       "      <td>25333.333333</td>\n",
       "    </tr>\n",
       "  </tbody>\n",
       "</table>\n",
       "</div>"
      ],
      "text/plain": [
       "                                     price\n",
       "publisher                                 \n",
       "انتشارات سنجش و دانش          33180.000000\n",
       "فیدیبو                        30931.774194\n",
       "موسسه فرهنگی هنری سانازسانيا  45000.000000\n",
       "نشر بارسا                     35000.000000\n",
       "نشر تیر                       25333.333333"
      ]
     },
     "execution_count": 26,
     "metadata": {},
     "output_type": "execute_result"
    }
   ],
   "source": [
    "expensive_publishers = publishers_data[publishers_data['price']>25000]\n",
    "expensive_publishers\n"
   ]
  },
  {
   "cell_type": "markdown",
   "metadata": {},
   "source": [
    "these are expensive publishers...\n",
    "what came to my mind is to add publishers data to our regression model so let's see how many publisher we have\n"
   ]
  },
  {
   "cell_type": "code",
   "execution_count": 27,
   "metadata": {},
   "outputs": [
    {
     "data": {
      "text/plain": [
       "(64, 8)"
      ]
     },
     "execution_count": 27,
     "metadata": {},
     "output_type": "execute_result"
    }
   ],
   "source": [
    "data.drop_duplicates(subset=['publisher'], keep=False).shape"
   ]
  },
  {
   "cell_type": "markdown",
   "metadata": {},
   "source": [
    "we have 64 unique publisher (actually I excepted more) so it's a good Idea to include them (as dummy var) to our reg model\n",
    "\n",
    "### pca regression"
   ]
  },
  {
   "cell_type": "code",
   "execution_count": 44,
   "metadata": {},
   "outputs": [
    {
     "name": "stdout",
     "output_type": "stream",
     "text": [
      "[7.07451106e-01 2.18835401e-01 7.36969831e-02 1.40285940e-06\n",
      " 1.09263344e-06 6.22752412e-07 5.63284294e-07 4.83426361e-07\n",
      " 4.51838097e-07 4.03549270e-07 3.44578576e-07 3.33346133e-07\n",
      " 3.25167736e-07 3.22142558e-07 3.20567118e-07 3.18520062e-07\n",
      " 3.03315113e-07 2.72548041e-07 2.59822123e-07 2.47792189e-07\n",
      " 2.33815270e-07 2.24571185e-07 2.17239209e-07 2.07547880e-07\n",
      " 1.95381103e-07 1.89343484e-07 1.83064039e-07 1.77168678e-07\n",
      " 1.73012904e-07 1.69269743e-07 1.60974636e-07 1.52198046e-07\n",
      " 1.48756062e-07 1.41584548e-07 1.37949046e-07 1.35083593e-07\n",
      " 1.31931591e-07 1.26825729e-07 1.23552770e-07 1.20240998e-07\n",
      " 1.14545711e-07 1.12447815e-07 1.04878630e-07 9.83501294e-08\n",
      " 9.31072594e-08 8.41801070e-08 8.28035532e-08 7.87462456e-08\n",
      " 7.85961698e-08 7.82452235e-08 7.78294023e-08 7.51112457e-08\n",
      " 7.30464805e-08 7.28695383e-08 7.25191160e-08 6.95036818e-08\n",
      " 6.69540848e-08 6.66649498e-08 6.61930425e-08 6.25891971e-08\n",
      " 6.10092345e-08 6.02753202e-08 5.88186553e-08 5.81308675e-08\n",
      " 5.58328932e-08]\n",
      "76.17959553629368 %\n"
     ]
    },
    {
     "data": {
      "text/html": [
       "<div>\n",
       "<style scoped>\n",
       "    .dataframe tbody tr th:only-of-type {\n",
       "        vertical-align: middle;\n",
       "    }\n",
       "\n",
       "    .dataframe tbody tr th {\n",
       "        vertical-align: top;\n",
       "    }\n",
       "\n",
       "    .dataframe thead th {\n",
       "        text-align: right;\n",
       "    }\n",
       "</style>\n",
       "<table border=\"1\" class=\"dataframe\">\n",
       "  <thead>\n",
       "    <tr style=\"text-align: right;\">\n",
       "      <th></th>\n",
       "      <th>Actual</th>\n",
       "      <th>Predicted</th>\n",
       "    </tr>\n",
       "  </thead>\n",
       "  <tbody>\n",
       "    <tr>\n",
       "      <th>666</th>\n",
       "      <td>10200</td>\n",
       "      <td>6568.825518</td>\n",
       "    </tr>\n",
       "    <tr>\n",
       "      <th>314</th>\n",
       "      <td>4200</td>\n",
       "      <td>5666.863137</td>\n",
       "    </tr>\n",
       "    <tr>\n",
       "      <th>1372</th>\n",
       "      <td>2900</td>\n",
       "      <td>2245.392968</td>\n",
       "    </tr>\n",
       "    <tr>\n",
       "      <th>3165</th>\n",
       "      <td>10200</td>\n",
       "      <td>8315.203869</td>\n",
       "    </tr>\n",
       "    <tr>\n",
       "      <th>1703</th>\n",
       "      <td>2000</td>\n",
       "      <td>2023.520302</td>\n",
       "    </tr>\n",
       "    <tr>\n",
       "      <th>1320</th>\n",
       "      <td>6750</td>\n",
       "      <td>6532.050952</td>\n",
       "    </tr>\n",
       "    <tr>\n",
       "      <th>3026</th>\n",
       "      <td>3900</td>\n",
       "      <td>3027.047530</td>\n",
       "    </tr>\n",
       "    <tr>\n",
       "      <th>1105</th>\n",
       "      <td>6000</td>\n",
       "      <td>8992.448873</td>\n",
       "    </tr>\n",
       "    <tr>\n",
       "      <th>1346</th>\n",
       "      <td>9400</td>\n",
       "      <td>13758.851827</td>\n",
       "    </tr>\n",
       "    <tr>\n",
       "      <th>415</th>\n",
       "      <td>13500</td>\n",
       "      <td>12199.609642</td>\n",
       "    </tr>\n",
       "    <tr>\n",
       "      <th>1773</th>\n",
       "      <td>14000</td>\n",
       "      <td>13475.718530</td>\n",
       "    </tr>\n",
       "    <tr>\n",
       "      <th>9</th>\n",
       "      <td>10800</td>\n",
       "      <td>9929.158434</td>\n",
       "    </tr>\n",
       "    <tr>\n",
       "      <th>3677</th>\n",
       "      <td>10200</td>\n",
       "      <td>9446.029172</td>\n",
       "    </tr>\n",
       "    <tr>\n",
       "      <th>1981</th>\n",
       "      <td>8550</td>\n",
       "      <td>7160.354705</td>\n",
       "    </tr>\n",
       "    <tr>\n",
       "      <th>3348</th>\n",
       "      <td>4400</td>\n",
       "      <td>5120.924668</td>\n",
       "    </tr>\n",
       "    <tr>\n",
       "      <th>1770</th>\n",
       "      <td>9800</td>\n",
       "      <td>6832.011541</td>\n",
       "    </tr>\n",
       "    <tr>\n",
       "      <th>870</th>\n",
       "      <td>4200</td>\n",
       "      <td>6753.008047</td>\n",
       "    </tr>\n",
       "    <tr>\n",
       "      <th>147</th>\n",
       "      <td>15900</td>\n",
       "      <td>24026.917678</td>\n",
       "    </tr>\n",
       "    <tr>\n",
       "      <th>3544</th>\n",
       "      <td>7000</td>\n",
       "      <td>21088.122299</td>\n",
       "    </tr>\n",
       "    <tr>\n",
       "      <th>2449</th>\n",
       "      <td>16000</td>\n",
       "      <td>15142.773002</td>\n",
       "    </tr>\n",
       "    <tr>\n",
       "      <th>3484</th>\n",
       "      <td>4800</td>\n",
       "      <td>6718.907613</td>\n",
       "    </tr>\n",
       "    <tr>\n",
       "      <th>2947</th>\n",
       "      <td>8000</td>\n",
       "      <td>8779.704315</td>\n",
       "    </tr>\n",
       "    <tr>\n",
       "      <th>2670</th>\n",
       "      <td>13900</td>\n",
       "      <td>14182.354761</td>\n",
       "    </tr>\n",
       "    <tr>\n",
       "      <th>2598</th>\n",
       "      <td>3800</td>\n",
       "      <td>6720.494859</td>\n",
       "    </tr>\n",
       "    <tr>\n",
       "      <th>3571</th>\n",
       "      <td>2000</td>\n",
       "      <td>1105.077382</td>\n",
       "    </tr>\n",
       "    <tr>\n",
       "      <th>2390</th>\n",
       "      <td>10500</td>\n",
       "      <td>10430.427958</td>\n",
       "    </tr>\n",
       "    <tr>\n",
       "      <th>126</th>\n",
       "      <td>12000</td>\n",
       "      <td>11916.954227</td>\n",
       "    </tr>\n",
       "    <tr>\n",
       "      <th>887</th>\n",
       "      <td>8550</td>\n",
       "      <td>7160.354705</td>\n",
       "    </tr>\n",
       "    <tr>\n",
       "      <th>2148</th>\n",
       "      <td>16000</td>\n",
       "      <td>13767.819575</td>\n",
       "    </tr>\n",
       "    <tr>\n",
       "      <th>917</th>\n",
       "      <td>4900</td>\n",
       "      <td>6739.098385</td>\n",
       "    </tr>\n",
       "    <tr>\n",
       "      <th>...</th>\n",
       "      <td>...</td>\n",
       "      <td>...</td>\n",
       "    </tr>\n",
       "    <tr>\n",
       "      <th>3138</th>\n",
       "      <td>3000</td>\n",
       "      <td>10692.643783</td>\n",
       "    </tr>\n",
       "    <tr>\n",
       "      <th>2304</th>\n",
       "      <td>5800</td>\n",
       "      <td>6636.397525</td>\n",
       "    </tr>\n",
       "    <tr>\n",
       "      <th>2035</th>\n",
       "      <td>14900</td>\n",
       "      <td>12648.255296</td>\n",
       "    </tr>\n",
       "    <tr>\n",
       "      <th>2581</th>\n",
       "      <td>9000</td>\n",
       "      <td>8595.154659</td>\n",
       "    </tr>\n",
       "    <tr>\n",
       "      <th>3421</th>\n",
       "      <td>1500</td>\n",
       "      <td>6552.898297</td>\n",
       "    </tr>\n",
       "    <tr>\n",
       "      <th>2960</th>\n",
       "      <td>6000</td>\n",
       "      <td>6462.626074</td>\n",
       "    </tr>\n",
       "    <tr>\n",
       "      <th>1814</th>\n",
       "      <td>5700</td>\n",
       "      <td>6526.062171</td>\n",
       "    </tr>\n",
       "    <tr>\n",
       "      <th>1849</th>\n",
       "      <td>12000</td>\n",
       "      <td>14442.058361</td>\n",
       "    </tr>\n",
       "    <tr>\n",
       "      <th>2102</th>\n",
       "      <td>7500</td>\n",
       "      <td>5680.306155</td>\n",
       "    </tr>\n",
       "    <tr>\n",
       "      <th>2687</th>\n",
       "      <td>3500</td>\n",
       "      <td>1592.858119</td>\n",
       "    </tr>\n",
       "    <tr>\n",
       "      <th>1192</th>\n",
       "      <td>11400</td>\n",
       "      <td>10561.070662</td>\n",
       "    </tr>\n",
       "    <tr>\n",
       "      <th>501</th>\n",
       "      <td>14500</td>\n",
       "      <td>10473.125955</td>\n",
       "    </tr>\n",
       "    <tr>\n",
       "      <th>3087</th>\n",
       "      <td>2000</td>\n",
       "      <td>2187.367987</td>\n",
       "    </tr>\n",
       "    <tr>\n",
       "      <th>1932</th>\n",
       "      <td>5000</td>\n",
       "      <td>3706.620633</td>\n",
       "    </tr>\n",
       "    <tr>\n",
       "      <th>1927</th>\n",
       "      <td>2500</td>\n",
       "      <td>3228.665432</td>\n",
       "    </tr>\n",
       "    <tr>\n",
       "      <th>1692</th>\n",
       "      <td>10000</td>\n",
       "      <td>12513.425780</td>\n",
       "    </tr>\n",
       "    <tr>\n",
       "      <th>515</th>\n",
       "      <td>20900</td>\n",
       "      <td>12037.253744</td>\n",
       "    </tr>\n",
       "    <tr>\n",
       "      <th>2273</th>\n",
       "      <td>12600</td>\n",
       "      <td>11617.546962</td>\n",
       "    </tr>\n",
       "    <tr>\n",
       "      <th>2602</th>\n",
       "      <td>33000</td>\n",
       "      <td>26141.545968</td>\n",
       "    </tr>\n",
       "    <tr>\n",
       "      <th>1380</th>\n",
       "      <td>6750</td>\n",
       "      <td>6832.310375</td>\n",
       "    </tr>\n",
       "    <tr>\n",
       "      <th>228</th>\n",
       "      <td>8000</td>\n",
       "      <td>8428.437506</td>\n",
       "    </tr>\n",
       "    <tr>\n",
       "      <th>2352</th>\n",
       "      <td>25500</td>\n",
       "      <td>13580.279672</td>\n",
       "    </tr>\n",
       "    <tr>\n",
       "      <th>3564</th>\n",
       "      <td>4000</td>\n",
       "      <td>3967.221608</td>\n",
       "    </tr>\n",
       "    <tr>\n",
       "      <th>2267</th>\n",
       "      <td>20000</td>\n",
       "      <td>18771.682996</td>\n",
       "    </tr>\n",
       "    <tr>\n",
       "      <th>3735</th>\n",
       "      <td>2000</td>\n",
       "      <td>1053.723237</td>\n",
       "    </tr>\n",
       "    <tr>\n",
       "      <th>3386</th>\n",
       "      <td>4500</td>\n",
       "      <td>6901.396673</td>\n",
       "    </tr>\n",
       "    <tr>\n",
       "      <th>1325</th>\n",
       "      <td>2200</td>\n",
       "      <td>6025.079874</td>\n",
       "    </tr>\n",
       "    <tr>\n",
       "      <th>2652</th>\n",
       "      <td>10800</td>\n",
       "      <td>11380.681753</td>\n",
       "    </tr>\n",
       "    <tr>\n",
       "      <th>431</th>\n",
       "      <td>2000</td>\n",
       "      <td>2339.772365</td>\n",
       "    </tr>\n",
       "    <tr>\n",
       "      <th>821</th>\n",
       "      <td>5400</td>\n",
       "      <td>5603.864582</td>\n",
       "    </tr>\n",
       "  </tbody>\n",
       "</table>\n",
       "<p>756 rows × 2 columns</p>\n",
       "</div>"
      ],
      "text/plain": [
       "      Actual     Predicted\n",
       "666    10200   6568.825518\n",
       "314     4200   5666.863137\n",
       "1372    2900   2245.392968\n",
       "3165   10200   8315.203869\n",
       "1703    2000   2023.520302\n",
       "1320    6750   6532.050952\n",
       "3026    3900   3027.047530\n",
       "1105    6000   8992.448873\n",
       "1346    9400  13758.851827\n",
       "415    13500  12199.609642\n",
       "1773   14000  13475.718530\n",
       "9      10800   9929.158434\n",
       "3677   10200   9446.029172\n",
       "1981    8550   7160.354705\n",
       "3348    4400   5120.924668\n",
       "1770    9800   6832.011541\n",
       "870     4200   6753.008047\n",
       "147    15900  24026.917678\n",
       "3544    7000  21088.122299\n",
       "2449   16000  15142.773002\n",
       "3484    4800   6718.907613\n",
       "2947    8000   8779.704315\n",
       "2670   13900  14182.354761\n",
       "2598    3800   6720.494859\n",
       "3571    2000   1105.077382\n",
       "2390   10500  10430.427958\n",
       "126    12000  11916.954227\n",
       "887     8550   7160.354705\n",
       "2148   16000  13767.819575\n",
       "917     4900   6739.098385\n",
       "...      ...           ...\n",
       "3138    3000  10692.643783\n",
       "2304    5800   6636.397525\n",
       "2035   14900  12648.255296\n",
       "2581    9000   8595.154659\n",
       "3421    1500   6552.898297\n",
       "2960    6000   6462.626074\n",
       "1814    5700   6526.062171\n",
       "1849   12000  14442.058361\n",
       "2102    7500   5680.306155\n",
       "2687    3500   1592.858119\n",
       "1192   11400  10561.070662\n",
       "501    14500  10473.125955\n",
       "3087    2000   2187.367987\n",
       "1932    5000   3706.620633\n",
       "1927    2500   3228.665432\n",
       "1692   10000  12513.425780\n",
       "515    20900  12037.253744\n",
       "2273   12600  11617.546962\n",
       "2602   33000  26141.545968\n",
       "1380    6750   6832.310375\n",
       "228     8000   8428.437506\n",
       "2352   25500  13580.279672\n",
       "3564    4000   3967.221608\n",
       "2267   20000  18771.682996\n",
       "3735    2000   1053.723237\n",
       "3386    4500   6901.396673\n",
       "1325    2200   6025.079874\n",
       "2652   10800  11380.681753\n",
       "431     2000   2339.772365\n",
       "821     5400   5603.864582\n",
       "\n",
       "[756 rows x 2 columns]"
      ]
     },
     "execution_count": 44,
     "metadata": {},
     "output_type": "execute_result"
    }
   ],
   "source": [
    "dum_data = pd.get_dummies(data.iloc[:,[2,4,5,6]], columns=['publisher'])\n",
    "dum_data\n",
    "# PCA and regression with publishers\n",
    "y = data[\"price\"]\n",
    "X = dum_data\n",
    "X['paper_price'] = X['paper_price']/100\n",
    "X['rating'] = X['rating']*100\n",
    "X = X.fillna(X.mean())\n",
    "X\n",
    "X_train, X_test, y_train, y_test = train_test_split(X, y, test_size=0.2, random_state=101)\n",
    "pca=PCA(n_components=65) \n",
    "pca.fit(X_train) \n",
    "print(pca.explained_variance_ratio_)\n",
    "X_train=pca.transform(X_train) \n",
    "X_test=pca.transform(X_test)\n",
    "\n",
    "\n",
    "regressor1 = LinearRegression()  \n",
    "regressor1.fit(X_train, y_train)\n",
    "y_pred = regressor1.predict(X_test) \n",
    "w_publisher_test_results = pd.DataFrame({'Actual': y_test, 'Predicted': y_pred})\n",
    "accuracy = regressor1.score(X_test,y_test)\n",
    "print(accuracy*100,'%')\n",
    "w_publisher_test_results\n"
   ]
  },
  {
   "cell_type": "markdown",
   "metadata": {},
   "source": [
    "### lasso regression"
   ]
  },
  {
   "cell_type": "code",
   "execution_count": 48,
   "metadata": {},
   "outputs": [
    {
     "name": "stdout",
     "output_type": "stream",
     "text": [
      "76.83962382416497 %\n"
     ]
    }
   ],
   "source": [
    "dum_data = pd.get_dummies(data.iloc[:,[2,s5,6]], columns=['publisher'])\n",
    "dum_data\n",
    "# PCA and regression with publishers\n",
    "y = data[\"price\"]\n",
    "X = dum_data\n",
    "X['paper_price'] = X['paper_price']/100\n",
    "X = X.fillna(X.mean())\n",
    "X_train, X_test, y_train, y_test = train_test_split(X, y, test_size=0.2, random_state=101)\n",
    "clf = linear_model.Lasso(alpha=0.1)\n",
    "clf.fit(X_train,y_train)\n",
    "\n",
    "\n",
    "y_pred = clf.predict(X_test) \n",
    "test_lasso_results = pd.DataFrame({'Actual': y_test, 'Predicted': y_pred})\n",
    "accuracy = clf.score(X_test,y_test)\n",
    "print(accuracy*100,'%')\n"
   ]
  },
  {
   "cell_type": "code",
   "execution_count": null,
   "metadata": {},
   "outputs": [],
   "source": []
  }
 ],
 "metadata": {
  "kernelspec": {
   "display_name": "Python 3",
   "language": "python",
   "name": "python3"
  },
  "language_info": {
   "codemirror_mode": {
    "name": "ipython",
    "version": 3
   },
   "file_extension": ".py",
   "mimetype": "text/x-python",
   "name": "python",
   "nbconvert_exporter": "python",
   "pygments_lexer": "ipython3",
   "version": "3.7.2"
  }
 },
 "nbformat": 4,
 "nbformat_minor": 2
}
