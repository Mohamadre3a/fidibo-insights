{
 "cells": [
  {
   "cell_type": "markdown",
   "metadata": {},
   "source": [
    "# Fidibo insights"
   ]
  },
  {
   "cell_type": "markdown",
   "metadata": {},
   "source": [
    "### calculate diffrence in book price"
   ]
  },
  {
   "cell_type": "code",
   "execution_count": 2,
   "metadata": {},
   "outputs": [
    {
     "data": {
      "text/html": [
       "<div>\n",
       "<style scoped>\n",
       "    .dataframe tbody tr th:only-of-type {\n",
       "        vertical-align: middle;\n",
       "    }\n",
       "\n",
       "    .dataframe tbody tr th {\n",
       "        vertical-align: top;\n",
       "    }\n",
       "\n",
       "    .dataframe thead th {\n",
       "        text-align: right;\n",
       "    }\n",
       "</style>\n",
       "<table border=\"1\" class=\"dataframe\">\n",
       "  <thead>\n",
       "    <tr style=\"text-align: right;\">\n",
       "      <th></th>\n",
       "      <th>title</th>\n",
       "      <th>price</th>\n",
       "      <th>paper_price</th>\n",
       "      <th>isbn</th>\n",
       "      <th>rating</th>\n",
       "      <th>page</th>\n",
       "      <th>publisher</th>\n",
       "      <th>price_diff</th>\n",
       "    </tr>\n",
       "  </thead>\n",
       "  <tbody>\n",
       "    <tr>\n",
       "      <th>0</th>\n",
       "      <td>انسان در جستجوی معنی</td>\n",
       "      <td>8000</td>\n",
       "      <td>15000.0</td>\n",
       "      <td>9789646104266</td>\n",
       "      <td>4.38</td>\n",
       "      <td>255.0</td>\n",
       "      <td>انتشارات درسا</td>\n",
       "      <td>7000.0</td>\n",
       "    </tr>\n",
       "    <tr>\n",
       "      <th>1</th>\n",
       "      <td>مردی به نام اوه</td>\n",
       "      <td>8500</td>\n",
       "      <td>24500.0</td>\n",
       "      <td>9786007141779</td>\n",
       "      <td>4.34</td>\n",
       "      <td>392.0</td>\n",
       "      <td>نشر نون</td>\n",
       "      <td>16000.0</td>\n",
       "    </tr>\n",
       "    <tr>\n",
       "      <th>2</th>\n",
       "      <td>درنگ نکن انجامش بده</td>\n",
       "      <td>12000</td>\n",
       "      <td>20000.0</td>\n",
       "      <td>9786005253139</td>\n",
       "      <td>4.15</td>\n",
       "      <td>97.0</td>\n",
       "      <td>انتشارات سیته</td>\n",
       "      <td>8000.0</td>\n",
       "    </tr>\n",
       "    <tr>\n",
       "      <th>3</th>\n",
       "      <td>سیزده دلیل برای اینکه</td>\n",
       "      <td>5900</td>\n",
       "      <td>NaN</td>\n",
       "      <td>NaN</td>\n",
       "      <td>3.74</td>\n",
       "      <td>300.0</td>\n",
       "      <td>ناشرمولف</td>\n",
       "      <td>NaN</td>\n",
       "    </tr>\n",
       "    <tr>\n",
       "      <th>4</th>\n",
       "      <td>تاریخ ایران مدرن</td>\n",
       "      <td>15000</td>\n",
       "      <td>25000.0</td>\n",
       "      <td>9789641851264</td>\n",
       "      <td>4.64</td>\n",
       "      <td>352.0</td>\n",
       "      <td>نشر نی</td>\n",
       "      <td>10000.0</td>\n",
       "    </tr>\n",
       "  </tbody>\n",
       "</table>\n",
       "</div>"
      ],
      "text/plain": [
       "                   title  price  paper_price           isbn  rating   page  \\\n",
       "0   انسان در جستجوی معنی   8000      15000.0  9789646104266    4.38  255.0   \n",
       "1        مردی به نام اوه   8500      24500.0  9786007141779    4.34  392.0   \n",
       "2    درنگ نکن انجامش بده  12000      20000.0  9786005253139    4.15   97.0   \n",
       "3  سیزده دلیل برای اینکه   5900          NaN            NaN    3.74  300.0   \n",
       "4       تاریخ ایران مدرن  15000      25000.0  9789641851264    4.64  352.0   \n",
       "\n",
       "       publisher  price_diff  \n",
       "0  انتشارات درسا      7000.0  \n",
       "1        نشر نون     16000.0  \n",
       "2  انتشارات سیته      8000.0  \n",
       "3       ناشرمولف         NaN  \n",
       "4         نشر نی     10000.0  "
      ]
     },
     "execution_count": 2,
     "metadata": {},
     "output_type": "execute_result"
    }
   ],
   "source": [
    "import pandas as pd\n",
    "import numpy as np\n",
    "\n",
    "data = pd.read_csv('fidibo_books.csv')\n",
    "data['price_diff'] = data['paper_price'] - data['price']\n",
    "data=data.replace('NaN',np.nan)\n",
    "data.head()"
   ]
  },
  {
   "cell_type": "markdown",
   "metadata": {},
   "source": [
    "### histogram plots for columns"
   ]
  },
  {
   "cell_type": "code",
   "execution_count": 6,
   "metadata": {},
   "outputs": [
    {
     "name": "stderr",
     "output_type": "stream",
     "text": [
      "/Library/Frameworks/Python.framework/Versions/3.7/lib/python3.7/site-packages/numpy/lib/histograms.py:824: RuntimeWarning: invalid value encountered in greater_equal\n",
      "  keep = (tmp_a >= first_edge)\n",
      "/Library/Frameworks/Python.framework/Versions/3.7/lib/python3.7/site-packages/numpy/lib/histograms.py:825: RuntimeWarning: invalid value encountered in less_equal\n",
      "  keep &= (tmp_a <= last_edge)\n"
     ]
    },
    {
     "data": {
      "text/plain": [
       "<Figure size 640x480 with 4 Axes>"
      ]
     },
     "metadata": {},
     "output_type": "display_data"
    }
   ],
   "source": [
    "import seaborn as sns\n",
    "import matplotlib.pyplot as plt\n",
    "\n",
    "plt.subplot(2, 2, 1)\n",
    "plt.hist(data['price'], 50, facecolor='g')\n",
    "plt.title('Histogram of price')\n",
    "plt.subplot(2, 2, 2)\n",
    "plt.hist(data['paper_price'], 50, facecolor='b')\n",
    "plt.title('Histogram of paper_price')\n",
    "plt.subplot(2, 2, 3)\n",
    "plt.hist(data['rating'], 50, facecolor='y')\n",
    "plt.title('Histogram of rating')\n",
    "plt.subplot(2, 2, 4)\n",
    "plt.hist(data['price_diff'], 50, facecolor='r')\n",
    "plt.title('Histogram of price_diff')\n",
    "plt.tight_layout()\n",
    "plt.savefig('hists.png')\n",
    "plt.show()\n"
   ]
  },
  {
   "cell_type": "markdown",
   "metadata": {},
   "source": [
    "apparently all data columns have some points out of range but are not an outlier.\n",
    "but a rating histogram point is too high so we need to investigate this plot more:"
   ]
  },
  {
   "cell_type": "code",
   "execution_count": 34,
   "metadata": {},
   "outputs": [
    {
     "data": {
      "image/png": "[encoded data removed]",
      "text/plain": [
       "<Figure size 432x288 with 1 Axes>"
      ]
     },
     "metadata": {
      "needs_background": "light"
     },
     "output_type": "display_data"
    }
   ],
   "source": [
    "plt.hist(data['rating'], 100, facecolor='y')\n",
    "plt.savefig('rating_hist.png')\n",
    "plt.show()"
   ]
  },
  {
   "cell_type": "code",
   "execution_count": 29,
   "metadata": {},
   "outputs": [
    {
     "data": {
      "text/html": [
       "<div>\n",
       "<style scoped>\n",
       "    .dataframe tbody tr th:only-of-type {\n",
       "        vertical-align: middle;\n",
       "    }\n",
       "\n",
       "    .dataframe tbody tr th {\n",
       "        vertical-align: top;\n",
       "    }\n",
       "\n",
       "    .dataframe thead th {\n",
       "        text-align: right;\n",
       "    }\n",
       "</style>\n",
       "<table border=\"1\" class=\"dataframe\">\n",
       "  <thead>\n",
       "    <tr style=\"text-align: right;\">\n",
       "      <th></th>\n",
       "      <th>title</th>\n",
       "      <th>price</th>\n",
       "      <th>paper_price</th>\n",
       "      <th>isbn</th>\n",
       "      <th>rating</th>\n",
       "      <th>page</th>\n",
       "      <th>publisher</th>\n",
       "      <th>price_diff</th>\n",
       "    </tr>\n",
       "  </thead>\n",
       "  <tbody>\n",
       "    <tr>\n",
       "      <th>67</th>\n",
       "      <td>چای نعنا</td>\n",
       "      <td>15000</td>\n",
       "      <td>25000.0</td>\n",
       "      <td>۹۷۸۶۰۰۸۴۸۲۰۷۹</td>\n",
       "      <td>5.0</td>\n",
       "      <td>168.0</td>\n",
       "      <td>نشر مثلث</td>\n",
       "      <td>10000.0</td>\n",
       "    </tr>\n",
       "    <tr>\n",
       "      <th>70</th>\n",
       "      <td>هری‌پاتر و زندانی آزکابان</td>\n",
       "      <td>25000</td>\n",
       "      <td>31000.0</td>\n",
       "      <td>9789645757012</td>\n",
       "      <td>5.0</td>\n",
       "      <td>496.0</td>\n",
       "      <td>انتشارات کتابسرای تندیس</td>\n",
       "      <td>6000.0</td>\n",
       "    </tr>\n",
       "    <tr>\n",
       "      <th>365</th>\n",
       "      <td>ماتریکس الهی</td>\n",
       "      <td>12500</td>\n",
       "      <td>25000.0</td>\n",
       "      <td>9786006721309</td>\n",
       "      <td>5.0</td>\n",
       "      <td>264.0</td>\n",
       "      <td>نشر نامک</td>\n",
       "      <td>12500.0</td>\n",
       "    </tr>\n",
       "    <tr>\n",
       "      <th>372</th>\n",
       "      <td>آن‌سوی اتهام</td>\n",
       "      <td>15000</td>\n",
       "      <td>NaN</td>\n",
       "      <td>9643126226</td>\n",
       "      <td>5.0</td>\n",
       "      <td>288.0</td>\n",
       "      <td>نشر نی</td>\n",
       "      <td>NaN</td>\n",
       "    </tr>\n",
       "    <tr>\n",
       "      <th>388</th>\n",
       "      <td>طریق شاهان</td>\n",
       "      <td>15000</td>\n",
       "      <td>35000.0</td>\n",
       "      <td>9786006225845</td>\n",
       "      <td>5.0</td>\n",
       "      <td>632.0</td>\n",
       "      <td>آذرباد</td>\n",
       "      <td>20000.0</td>\n",
       "    </tr>\n",
       "  </tbody>\n",
       "</table>\n",
       "</div>"
      ],
      "text/plain": [
       "                         title  price  paper_price           isbn  rating  \\\n",
       "67                    چای نعنا  15000      25000.0  ۹۷۸۶۰۰۸۴۸۲۰۷۹     5.0   \n",
       "70   هری‌پاتر و زندانی آزکابان  25000      31000.0  9789645757012     5.0   \n",
       "365               ماتریکس الهی  12500      25000.0  9786006721309     5.0   \n",
       "372               آن‌سوی اتهام  15000          NaN     9643126226     5.0   \n",
       "388                 طریق شاهان  15000      35000.0  9786006225845     5.0   \n",
       "\n",
       "      page                publisher  price_diff  \n",
       "67   168.0                 نشر مثلث     10000.0  \n",
       "70   496.0  انتشارات کتابسرای تندیس      6000.0  \n",
       "365  264.0                 نشر نامک     12500.0  \n",
       "372  288.0                   نشر نی         NaN  \n",
       "388  632.0                   آذرباد     20000.0  "
      ]
     },
     "execution_count": 29,
     "metadata": {},
     "output_type": "execute_result"
    }
   ],
   "source": [
    "rating = data[data['rating'] == 5]\n",
    "rating.head()"
   ]
  },
  {
   "cell_type": "markdown",
   "metadata": {},
   "source": [
    "so about 700 data rows are 5, it might be because fidibo ratings has a default value of 5\n",
    "but after checking these rows they are fine and it's not default value."
   ]
  },
  {
   "cell_type": "markdown",
   "metadata": {},
   "source": [
    "### finding relationship between columns"
   ]
  },
  {
   "cell_type": "code",
   "execution_count": 32,
   "metadata": {},
   "outputs": [
    {
     "data": {
      "image/png": "[encoded data removed]",
      "text/plain": [
       "<Figure size 360x360 with 1 Axes>"
      ]
     },
     "metadata": {
      "needs_background": "light"
     },
     "output_type": "display_data"
    },
    {
     "data": {
      "image/png": "[encoded data removed]",
      "text/plain": [
       "<Figure size 360x360 with 1 Axes>"
      ]
     },
     "metadata": {
      "needs_background": "light"
     },
     "output_type": "display_data"
    }
   ],
   "source": [
    "sns.lmplot(x=\"price\", y=\"rating\", data=data)\n",
    "plt.show()\n",
    "sns.lmplot(x=\"rating\", y=\"price_diff\", data=data)\n",
    "plt.show()"
   ]
  },
  {
   "cell_type": "markdown",
   "metadata": {},
   "source": [
    "no pattern in these two plot... next we should check its columns correlation\n",
    "### columns correlation"
   ]
  },
  {
   "cell_type": "code",
   "execution_count": 4,
   "metadata": {},
   "outputs": [
    {
     "data": {
      "text/html": [
       "<div>\n",
       "<style scoped>\n",
       "    .dataframe tbody tr th:only-of-type {\n",
       "        vertical-align: middle;\n",
       "    }\n",
       "\n",
       "    .dataframe tbody tr th {\n",
       "        vertical-align: top;\n",
       "    }\n",
       "\n",
       "    .dataframe thead th {\n",
       "        text-align: right;\n",
       "    }\n",
       "</style>\n",
       "<table border=\"1\" class=\"dataframe\">\n",
       "  <thead>\n",
       "    <tr style=\"text-align: right;\">\n",
       "      <th></th>\n",
       "      <th>price</th>\n",
       "      <th>paper_price</th>\n",
       "      <th>rating</th>\n",
       "      <th>page</th>\n",
       "      <th>price_diff</th>\n",
       "    </tr>\n",
       "  </thead>\n",
       "  <tbody>\n",
       "    <tr>\n",
       "      <th>price</th>\n",
       "      <td>1.000000</td>\n",
       "      <td>0.871754</td>\n",
       "      <td>-0.048911</td>\n",
       "      <td>0.593489</td>\n",
       "      <td>0.662795</td>\n",
       "    </tr>\n",
       "    <tr>\n",
       "      <th>paper_price</th>\n",
       "      <td>0.871754</td>\n",
       "      <td>1.000000</td>\n",
       "      <td>-0.062762</td>\n",
       "      <td>0.566186</td>\n",
       "      <td>0.944665</td>\n",
       "    </tr>\n",
       "    <tr>\n",
       "      <th>rating</th>\n",
       "      <td>-0.048911</td>\n",
       "      <td>-0.062762</td>\n",
       "      <td>1.000000</td>\n",
       "      <td>-0.006886</td>\n",
       "      <td>-0.059088</td>\n",
       "    </tr>\n",
       "    <tr>\n",
       "      <th>page</th>\n",
       "      <td>0.593489</td>\n",
       "      <td>0.566186</td>\n",
       "      <td>-0.006886</td>\n",
       "      <td>1.000000</td>\n",
       "      <td>0.446511</td>\n",
       "    </tr>\n",
       "    <tr>\n",
       "      <th>price_diff</th>\n",
       "      <td>0.662795</td>\n",
       "      <td>0.944665</td>\n",
       "      <td>-0.059088</td>\n",
       "      <td>0.446511</td>\n",
       "      <td>1.000000</td>\n",
       "    </tr>\n",
       "  </tbody>\n",
       "</table>\n",
       "</div>"
      ],
      "text/plain": [
       "                price  paper_price    rating      page  price_diff\n",
       "price        1.000000     0.871754 -0.048911  0.593489    0.662795\n",
       "paper_price  0.871754     1.000000 -0.062762  0.566186    0.944665\n",
       "rating      -0.048911    -0.062762  1.000000 -0.006886   -0.059088\n",
       "page         0.593489     0.566186 -0.006886  1.000000    0.446511\n",
       "price_diff   0.662795     0.944665 -0.059088  0.446511    1.000000"
      ]
     },
     "execution_count": 4,
     "metadata": {},
     "output_type": "execute_result"
    }
   ],
   "source": [
    "data.corr()"
   ]
  },
  {
   "cell_type": "markdown",
   "metadata": {},
   "source": [
    "obviously paper price and price have high correlation but the intresting part is correlation between (price diff,price) and (price diff,paper price). paper price has more corr with price diff this shows that fidibo tries to balance prices in a way that higher paper price have more price diff. another thing to notice is that page has corr with price which is reasonable."
   ]
  },
  {
   "cell_type": "code",
   "execution_count": 11,
   "metadata": {},
   "outputs": [
    {
     "data": {
      "image/png": "[encoded data removed]",
      "text/plain": [
       "<Figure size 360x360 with 1 Axes>"
      ]
     },
     "metadata": {
      "needs_background": "light"
     },
     "output_type": "display_data"
    },
    {
     "data": {
      "image/png": "[encoded data removed]",
      "text/plain": [
       "<Figure size 360x360 with 1 Axes>"
      ]
     },
     "metadata": {
      "needs_background": "light"
     },
     "output_type": "display_data"
    }
   ],
   "source": [
    "\n",
    "lm1 = sns.lmplot(x=\"paper_price\", y=\"price_diff\", data=data)\n",
    "fig1 = lm1.fig \n",
    "fig1.suptitle(\"paper_price and price_diff\")\n",
    "\n",
    "lm2 = sns.lmplot(x=\"price\", y=\"price_diff\", data=data)\n",
    "fig2 = lm2.fig \n",
    "fig2.suptitle('price and price_diff')\n",
    "plt.show()"
   ]
  },
  {
   "cell_type": "markdown",
   "metadata": {},
   "source": [
    "## Model data to estimate price\n",
    "one thing that we can do is to estimate price of books by PCA and regression"
   ]
  },
  {
   "cell_type": "code",
   "execution_count": 73,
   "metadata": {},
   "outputs": [
    {
     "name": "stderr",
     "output_type": "stream",
     "text": [
      "/Library/Frameworks/Python.framework/Versions/3.7/lib/python3.7/site-packages/ipykernel_launcher.py:6: SettingWithCopyWarning: \n",
      "A value is trying to be set on a copy of a slice from a DataFrame.\n",
      "Try using .loc[row_indexer,col_indexer] = value instead\n",
      "\n",
      "See the caveats in the documentation: http://pandas.pydata.org/pandas-docs/stable/indexing.html#indexing-view-versus-copy\n",
      "  \n",
      "/Library/Frameworks/Python.framework/Versions/3.7/lib/python3.7/site-packages/ipykernel_launcher.py:7: SettingWithCopyWarning: \n",
      "A value is trying to be set on a copy of a slice from a DataFrame.\n",
      "Try using .loc[row_indexer,col_indexer] = value instead\n",
      "\n",
      "See the caveats in the documentation: http://pandas.pydata.org/pandas-docs/stable/indexing.html#indexing-view-versus-copy\n",
      "  import sys\n"
     ]
    },
    {
     "data": {
      "text/plain": [
       "array([0.70746281])"
      ]
     },
     "execution_count": 73,
     "metadata": {},
     "output_type": "execute_result"
    }
   ],
   "source": [
    "from sklearn.decomposition import PCA\n",
    "from sklearn.model_selection import train_test_split\n",
    "\n",
    "y = data[\"price\"]\n",
    "X = data.iloc[:,[2,4,5]]\n",
    "X['paper_price'] = X['paper_price']/100\n",
    "X['rating'] = X['rating']*100\n",
    "X = X.fillna(X.mean())\n",
    "X.head()\n",
    "\n",
    "\n",
    "X_train, X_test, y_train, y_test = train_test_split(X, y, test_size=0.2, random_state=101)\n",
    "\n",
    "pca=PCA(n_components=2) \n",
    "X_train = pca.fit(X_train) \n",
    "X_test=pca.transform(X_test) \n",
    "pca.explained_variance_ratio_  "
   ]
  },
  {
   "cell_type": "markdown",
   "metadata": {},
   "source": [
    "It can be seen that first principal component is responsible for 70% of our model so it's safe to convert it to one component"
   ]
  },
  {
   "cell_type": "code",
   "execution_count": 76,
   "metadata": {},
   "outputs": [
    {
     "name": "stderr",
     "output_type": "stream",
     "text": [
      "/Library/Frameworks/Python.framework/Versions/3.7/lib/python3.7/site-packages/ipykernel_launcher.py:3: SettingWithCopyWarning: \n",
      "A value is trying to be set on a copy of a slice from a DataFrame.\n",
      "Try using .loc[row_indexer,col_indexer] = value instead\n",
      "\n",
      "See the caveats in the documentation: http://pandas.pydata.org/pandas-docs/stable/indexing.html#indexing-view-versus-copy\n",
      "  This is separate from the ipykernel package so we can avoid doing imports until\n",
      "/Library/Frameworks/Python.framework/Versions/3.7/lib/python3.7/site-packages/ipykernel_launcher.py:4: SettingWithCopyWarning: \n",
      "A value is trying to be set on a copy of a slice from a DataFrame.\n",
      "Try using .loc[row_indexer,col_indexer] = value instead\n",
      "\n",
      "See the caveats in the documentation: http://pandas.pydata.org/pandas-docs/stable/indexing.html#indexing-view-versus-copy\n",
      "  after removing the cwd from sys.path.\n"
     ]
    }
   ],
   "source": [
    "y = data[\"price\"]\n",
    "X = data.iloc[:,[2,4,5]]\n",
    "X['paper_price'] = X['paper_price']/100\n",
    "X['rating'] = X['rating']*100\n",
    "X = X.fillna(X.mean())\n",
    "X.head()\n",
    "\n",
    "\n",
    "X_train, X_test, y_train, y_test = train_test_split(X, y, test_size=0.2, random_state=101)\n",
    "pca=PCA(n_components=1) \n",
    "pca.fit(X_train) \n",
    "X_train=pca.transform(X_train) \n",
    "X_test=pca.transform(X_test)"
   ]
  },
  {
   "cell_type": "markdown",
   "metadata": {},
   "source": [
    "### Regression "
   ]
  },
  {
   "cell_type": "code",
   "execution_count": 78,
   "metadata": {},
   "outputs": [
    {
     "name": "stdout",
     "output_type": "stream",
     "text": [
      "8888.230972865651\n",
      "[25.22520831]\n",
      "59.16127391905792 %\n"
     ]
    },
    {
     "data": {
      "image/png": "[encoded data removed]",
      "text/plain": [
       "<Figure size 432x288 with 1 Axes>"
      ]
     },
     "metadata": {
      "needs_background": "light"
     },
     "output_type": "display_data"
    }
   ],
   "source": [
    "from sklearn.linear_model import LinearRegression  \n",
    "regressor = LinearRegression()  \n",
    "regressor.fit(X_train, y_train)\n",
    "print(regressor.intercept_) \n",
    "print(regressor.coef_)\n",
    "y_pred = regressor.predict(X_test) \n",
    "test_results = pd.DataFrame({'Actual': y_test, 'Predicted': y_pred})\n",
    "accuracy = regressor.score(X_test,y_test)\n",
    "print(accuracy*100,'%')\n",
    "plt.scatter(X_train, y_train,color='b')\n",
    "plt.plot(X_test, y_pred,color='k')\n",
    "plt.savefig('result_reg.png')\n",
    "plt.show()\n"
   ]
  },
  {
   "cell_type": "markdown",
   "metadata": {},
   "source": [
    "good :)"
   ]
  },
  {
   "cell_type": "markdown",
   "metadata": {},
   "source": [
    "## Publishers correlation with the price"
   ]
  },
  {
   "cell_type": "code",
   "execution_count": 55,
   "metadata": {},
   "outputs": [
    {
     "data": {
      "image/png": "[encoded data removed]",
      "text/plain": [
       "<Figure size 432x288 with 1 Axes>"
      ]
     },
     "metadata": {
      "needs_background": "light"
     },
     "output_type": "display_data"
    }
   ],
   "source": [
    "publishers_data =  data.groupby('publisher').agg({'price': 'mean'})\n",
    "plt.hist(publishers_data['price'], 100, facecolor='k')\n",
    "plt.show()"
   ]
  },
  {
   "cell_type": "markdown",
   "metadata": {},
   "source": [
    "some publishers' books are more expensive than usual let's see what they are"
   ]
  },
  {
   "cell_type": "code",
   "execution_count": 58,
   "metadata": {},
   "outputs": [
    {
     "data": {
      "text/html": [
       "<div>\n",
       "<style scoped>\n",
       "    .dataframe tbody tr th:only-of-type {\n",
       "        vertical-align: middle;\n",
       "    }\n",
       "\n",
       "    .dataframe tbody tr th {\n",
       "        vertical-align: top;\n",
       "    }\n",
       "\n",
       "    .dataframe thead th {\n",
       "        text-align: right;\n",
       "    }\n",
       "</style>\n",
       "<table border=\"1\" class=\"dataframe\">\n",
       "  <thead>\n",
       "    <tr style=\"text-align: right;\">\n",
       "      <th></th>\n",
       "      <th>price</th>\n",
       "    </tr>\n",
       "    <tr>\n",
       "      <th>publisher</th>\n",
       "      <th></th>\n",
       "    </tr>\n",
       "  </thead>\n",
       "  <tbody>\n",
       "    <tr>\n",
       "      <th>انتشارات سنجش و دانش</th>\n",
       "      <td>33180.000000</td>\n",
       "    </tr>\n",
       "    <tr>\n",
       "      <th>فیدیبو</th>\n",
       "      <td>30931.774194</td>\n",
       "    </tr>\n",
       "    <tr>\n",
       "      <th>موسسه فرهنگی هنری سانازسانيا</th>\n",
       "      <td>45000.000000</td>\n",
       "    </tr>\n",
       "    <tr>\n",
       "      <th>نشر بارسا</th>\n",
       "      <td>35000.000000</td>\n",
       "    </tr>\n",
       "    <tr>\n",
       "      <th>نشر تیر</th>\n",
       "      <td>25333.333333</td>\n",
       "    </tr>\n",
       "  </tbody>\n",
       "</table>\n",
       "</div>"
      ],
      "text/plain": [
       "                                     price\n",
       "publisher                                 \n",
       "انتشارات سنجش و دانش          33180.000000\n",
       "فیدیبو                        30931.774194\n",
       "موسسه فرهنگی هنری سانازسانيا  45000.000000\n",
       "نشر بارسا                     35000.000000\n",
       "نشر تیر                       25333.333333"
      ]
     },
     "execution_count": 58,
     "metadata": {},
     "output_type": "execute_result"
    }
   ],
   "source": [
    "expensive_publishers = publishers_data[publishers_data['price']>25000]\n",
    "expensive_publishers\n"
   ]
  },
  {
   "cell_type": "markdown",
   "metadata": {},
   "source": [
    "these are expensive publishers...\n",
    "what came to my mind is to add publishers data to our regression model so let's see how many publisher we have\n"
   ]
  },
  {
   "cell_type": "code",
   "execution_count": 60,
   "metadata": {},
   "outputs": [
    {
     "data": {
      "text/plain": [
       "(64, 8)"
      ]
     },
     "execution_count": 60,
     "metadata": {},
     "output_type": "execute_result"
    }
   ],
   "source": [
    "data.drop_duplicates(subset=['publisher'], keep=False).shape"
   ]
  },
  {
   "cell_type": "markdown",
   "metadata": {},
   "source": [
    "we have 64 unique publisher (actually I excepted more) so it's a good Idea to include them (as dummy var) to our reg model"
   ]
  },
  {
   "cell_type": "code",
   "execution_count": 82,
   "metadata": {},
   "outputs": [
    {
     "name": "stdout",
     "output_type": "stream",
     "text": [
      "76.10529454880546 %\n"
     ]
    },
    {
     "data": {
      "text/html": [
       "<div>\n",
       "<style scoped>\n",
       "    .dataframe tbody tr th:only-of-type {\n",
       "        vertical-align: middle;\n",
       "    }\n",
       "\n",
       "    .dataframe tbody tr th {\n",
       "        vertical-align: top;\n",
       "    }\n",
       "\n",
       "    .dataframe thead th {\n",
       "        text-align: right;\n",
       "    }\n",
       "</style>\n",
       "<table border=\"1\" class=\"dataframe\">\n",
       "  <thead>\n",
       "    <tr style=\"text-align: right;\">\n",
       "      <th></th>\n",
       "      <th>Actual</th>\n",
       "      <th>Predicted</th>\n",
       "    </tr>\n",
       "  </thead>\n",
       "  <tbody>\n",
       "    <tr>\n",
       "      <th>666</th>\n",
       "      <td>10200</td>\n",
       "      <td>6571.391229</td>\n",
       "    </tr>\n",
       "    <tr>\n",
       "      <th>314</th>\n",
       "      <td>4200</td>\n",
       "      <td>5656.242491</td>\n",
       "    </tr>\n",
       "    <tr>\n",
       "      <th>1372</th>\n",
       "      <td>2900</td>\n",
       "      <td>2221.494446</td>\n",
       "    </tr>\n",
       "    <tr>\n",
       "      <th>3165</th>\n",
       "      <td>10200</td>\n",
       "      <td>8334.113171</td>\n",
       "    </tr>\n",
       "    <tr>\n",
       "      <th>1703</th>\n",
       "      <td>2000</td>\n",
       "      <td>2022.325748</td>\n",
       "    </tr>\n",
       "    <tr>\n",
       "      <th>1320</th>\n",
       "      <td>6750</td>\n",
       "      <td>6550.006458</td>\n",
       "    </tr>\n",
       "    <tr>\n",
       "      <th>3026</th>\n",
       "      <td>3900</td>\n",
       "      <td>3115.809470</td>\n",
       "    </tr>\n",
       "    <tr>\n",
       "      <th>1105</th>\n",
       "      <td>6000</td>\n",
       "      <td>8963.434212</td>\n",
       "    </tr>\n",
       "    <tr>\n",
       "      <th>1346</th>\n",
       "      <td>9400</td>\n",
       "      <td>13798.169064</td>\n",
       "    </tr>\n",
       "    <tr>\n",
       "      <th>415</th>\n",
       "      <td>13500</td>\n",
       "      <td>12223.289539</td>\n",
       "    </tr>\n",
       "    <tr>\n",
       "      <th>1773</th>\n",
       "      <td>14000</td>\n",
       "      <td>13488.794482</td>\n",
       "    </tr>\n",
       "    <tr>\n",
       "      <th>9</th>\n",
       "      <td>10800</td>\n",
       "      <td>9948.933994</td>\n",
       "    </tr>\n",
       "    <tr>\n",
       "      <th>3677</th>\n",
       "      <td>10200</td>\n",
       "      <td>9448.954197</td>\n",
       "    </tr>\n",
       "    <tr>\n",
       "      <th>1981</th>\n",
       "      <td>8550</td>\n",
       "      <td>7140.546809</td>\n",
       "    </tr>\n",
       "    <tr>\n",
       "      <th>3348</th>\n",
       "      <td>4400</td>\n",
       "      <td>5086.560648</td>\n",
       "    </tr>\n",
       "    <tr>\n",
       "      <th>1770</th>\n",
       "      <td>9800</td>\n",
       "      <td>6845.297823</td>\n",
       "    </tr>\n",
       "    <tr>\n",
       "      <th>870</th>\n",
       "      <td>4200</td>\n",
       "      <td>6765.551135</td>\n",
       "    </tr>\n",
       "    <tr>\n",
       "      <th>147</th>\n",
       "      <td>15900</td>\n",
       "      <td>23006.116956</td>\n",
       "    </tr>\n",
       "    <tr>\n",
       "      <th>3544</th>\n",
       "      <td>7000</td>\n",
       "      <td>19755.964630</td>\n",
       "    </tr>\n",
       "    <tr>\n",
       "      <th>2449</th>\n",
       "      <td>16000</td>\n",
       "      <td>15183.436396</td>\n",
       "    </tr>\n",
       "    <tr>\n",
       "      <th>3484</th>\n",
       "      <td>4800</td>\n",
       "      <td>6709.814017</td>\n",
       "    </tr>\n",
       "    <tr>\n",
       "      <th>2947</th>\n",
       "      <td>8000</td>\n",
       "      <td>8743.835492</td>\n",
       "    </tr>\n",
       "    <tr>\n",
       "      <th>2670</th>\n",
       "      <td>13900</td>\n",
       "      <td>14264.018555</td>\n",
       "    </tr>\n",
       "    <tr>\n",
       "      <th>2598</th>\n",
       "      <td>3800</td>\n",
       "      <td>6693.246056</td>\n",
       "    </tr>\n",
       "    <tr>\n",
       "      <th>3571</th>\n",
       "      <td>2000</td>\n",
       "      <td>1104.634619</td>\n",
       "    </tr>\n",
       "    <tr>\n",
       "      <th>2390</th>\n",
       "      <td>10500</td>\n",
       "      <td>10450.267114</td>\n",
       "    </tr>\n",
       "    <tr>\n",
       "      <th>126</th>\n",
       "      <td>12000</td>\n",
       "      <td>11956.216770</td>\n",
       "    </tr>\n",
       "    <tr>\n",
       "      <th>887</th>\n",
       "      <td>8550</td>\n",
       "      <td>7140.546809</td>\n",
       "    </tr>\n",
       "    <tr>\n",
       "      <th>2148</th>\n",
       "      <td>16000</td>\n",
       "      <td>13804.729660</td>\n",
       "    </tr>\n",
       "    <tr>\n",
       "      <th>917</th>\n",
       "      <td>4900</td>\n",
       "      <td>5637.790993</td>\n",
       "    </tr>\n",
       "    <tr>\n",
       "      <th>...</th>\n",
       "      <td>...</td>\n",
       "      <td>...</td>\n",
       "    </tr>\n",
       "    <tr>\n",
       "      <th>3138</th>\n",
       "      <td>3000</td>\n",
       "      <td>10702.884829</td>\n",
       "    </tr>\n",
       "    <tr>\n",
       "      <th>2304</th>\n",
       "      <td>5800</td>\n",
       "      <td>6645.117324</td>\n",
       "    </tr>\n",
       "    <tr>\n",
       "      <th>2035</th>\n",
       "      <td>14900</td>\n",
       "      <td>12683.398581</td>\n",
       "    </tr>\n",
       "    <tr>\n",
       "      <th>2581</th>\n",
       "      <td>9000</td>\n",
       "      <td>7653.946343</td>\n",
       "    </tr>\n",
       "    <tr>\n",
       "      <th>3421</th>\n",
       "      <td>1500</td>\n",
       "      <td>6511.327104</td>\n",
       "    </tr>\n",
       "    <tr>\n",
       "      <th>2960</th>\n",
       "      <td>6000</td>\n",
       "      <td>7822.124323</td>\n",
       "    </tr>\n",
       "    <tr>\n",
       "      <th>1814</th>\n",
       "      <td>5700</td>\n",
       "      <td>6517.939449</td>\n",
       "    </tr>\n",
       "    <tr>\n",
       "      <th>1849</th>\n",
       "      <td>12000</td>\n",
       "      <td>14416.323510</td>\n",
       "    </tr>\n",
       "    <tr>\n",
       "      <th>2102</th>\n",
       "      <td>7500</td>\n",
       "      <td>5656.565339</td>\n",
       "    </tr>\n",
       "    <tr>\n",
       "      <th>2687</th>\n",
       "      <td>3500</td>\n",
       "      <td>1557.584434</td>\n",
       "    </tr>\n",
       "    <tr>\n",
       "      <th>1192</th>\n",
       "      <td>11400</td>\n",
       "      <td>10584.134569</td>\n",
       "    </tr>\n",
       "    <tr>\n",
       "      <th>501</th>\n",
       "      <td>14500</td>\n",
       "      <td>10507.624756</td>\n",
       "    </tr>\n",
       "    <tr>\n",
       "      <th>3087</th>\n",
       "      <td>2000</td>\n",
       "      <td>2144.833456</td>\n",
       "    </tr>\n",
       "    <tr>\n",
       "      <th>1932</th>\n",
       "      <td>5000</td>\n",
       "      <td>3701.110598</td>\n",
       "    </tr>\n",
       "    <tr>\n",
       "      <th>1927</th>\n",
       "      <td>2500</td>\n",
       "      <td>3215.980903</td>\n",
       "    </tr>\n",
       "    <tr>\n",
       "      <th>1692</th>\n",
       "      <td>10000</td>\n",
       "      <td>12526.705065</td>\n",
       "    </tr>\n",
       "    <tr>\n",
       "      <th>515</th>\n",
       "      <td>20900</td>\n",
       "      <td>12068.604372</td>\n",
       "    </tr>\n",
       "    <tr>\n",
       "      <th>2273</th>\n",
       "      <td>12600</td>\n",
       "      <td>11623.528914</td>\n",
       "    </tr>\n",
       "    <tr>\n",
       "      <th>2602</th>\n",
       "      <td>33000</td>\n",
       "      <td>26236.885654</td>\n",
       "    </tr>\n",
       "    <tr>\n",
       "      <th>1380</th>\n",
       "      <td>6750</td>\n",
       "      <td>6841.945754</td>\n",
       "    </tr>\n",
       "    <tr>\n",
       "      <th>228</th>\n",
       "      <td>8000</td>\n",
       "      <td>8465.643758</td>\n",
       "    </tr>\n",
       "    <tr>\n",
       "      <th>2352</th>\n",
       "      <td>25500</td>\n",
       "      <td>13600.677260</td>\n",
       "    </tr>\n",
       "    <tr>\n",
       "      <th>3564</th>\n",
       "      <td>4000</td>\n",
       "      <td>3835.201432</td>\n",
       "    </tr>\n",
       "    <tr>\n",
       "      <th>2267</th>\n",
       "      <td>20000</td>\n",
       "      <td>18825.880552</td>\n",
       "    </tr>\n",
       "    <tr>\n",
       "      <th>3735</th>\n",
       "      <td>2000</td>\n",
       "      <td>1052.923220</td>\n",
       "    </tr>\n",
       "    <tr>\n",
       "      <th>3386</th>\n",
       "      <td>4500</td>\n",
       "      <td>6880.997124</td>\n",
       "    </tr>\n",
       "    <tr>\n",
       "      <th>1325</th>\n",
       "      <td>2200</td>\n",
       "      <td>6021.004669</td>\n",
       "    </tr>\n",
       "    <tr>\n",
       "      <th>2652</th>\n",
       "      <td>10800</td>\n",
       "      <td>11394.521862</td>\n",
       "    </tr>\n",
       "    <tr>\n",
       "      <th>431</th>\n",
       "      <td>2000</td>\n",
       "      <td>3050.127056</td>\n",
       "    </tr>\n",
       "    <tr>\n",
       "      <th>821</th>\n",
       "      <td>5400</td>\n",
       "      <td>5058.020538</td>\n",
       "    </tr>\n",
       "  </tbody>\n",
       "</table>\n",
       "<p>756 rows × 2 columns</p>\n",
       "</div>"
      ],
      "text/plain": [
       "      Actual     Predicted\n",
       "666    10200   6571.391229\n",
       "314     4200   5656.242491\n",
       "1372    2900   2221.494446\n",
       "3165   10200   8334.113171\n",
       "1703    2000   2022.325748\n",
       "1320    6750   6550.006458\n",
       "3026    3900   3115.809470\n",
       "1105    6000   8963.434212\n",
       "1346    9400  13798.169064\n",
       "415    13500  12223.289539\n",
       "1773   14000  13488.794482\n",
       "9      10800   9948.933994\n",
       "3677   10200   9448.954197\n",
       "1981    8550   7140.546809\n",
       "3348    4400   5086.560648\n",
       "1770    9800   6845.297823\n",
       "870     4200   6765.551135\n",
       "147    15900  23006.116956\n",
       "3544    7000  19755.964630\n",
       "2449   16000  15183.436396\n",
       "3484    4800   6709.814017\n",
       "2947    8000   8743.835492\n",
       "2670   13900  14264.018555\n",
       "2598    3800   6693.246056\n",
       "3571    2000   1104.634619\n",
       "2390   10500  10450.267114\n",
       "126    12000  11956.216770\n",
       "887     8550   7140.546809\n",
       "2148   16000  13804.729660\n",
       "917     4900   5637.790993\n",
       "...      ...           ...\n",
       "3138    3000  10702.884829\n",
       "2304    5800   6645.117324\n",
       "2035   14900  12683.398581\n",
       "2581    9000   7653.946343\n",
       "3421    1500   6511.327104\n",
       "2960    6000   7822.124323\n",
       "1814    5700   6517.939449\n",
       "1849   12000  14416.323510\n",
       "2102    7500   5656.565339\n",
       "2687    3500   1557.584434\n",
       "1192   11400  10584.134569\n",
       "501    14500  10507.624756\n",
       "3087    2000   2144.833456\n",
       "1932    5000   3701.110598\n",
       "1927    2500   3215.980903\n",
       "1692   10000  12526.705065\n",
       "515    20900  12068.604372\n",
       "2273   12600  11623.528914\n",
       "2602   33000  26236.885654\n",
       "1380    6750   6841.945754\n",
       "228     8000   8465.643758\n",
       "2352   25500  13600.677260\n",
       "3564    4000   3835.201432\n",
       "2267   20000  18825.880552\n",
       "3735    2000   1052.923220\n",
       "3386    4500   6880.997124\n",
       "1325    2200   6021.004669\n",
       "2652   10800  11394.521862\n",
       "431     2000   3050.127056\n",
       "821     5400   5058.020538\n",
       "\n",
       "[756 rows x 2 columns]"
      ]
     },
     "execution_count": 82,
     "metadata": {},
     "output_type": "execute_result"
    }
   ],
   "source": [
    "dum_data = pd.get_dummies(data.iloc[:,[2,4,5,6]], columns=['publisher'])\n",
    "dum_data\n",
    "# PCA and regression with publishers\n",
    "y = data[\"price\"]\n",
    "X = dum_data\n",
    "X['paper_price'] = X['paper_price']/100\n",
    "X['rating'] = X['rating']*100\n",
    "X = X.fillna(X.mean())\n",
    "X\n",
    "X_train, X_test, y_train, y_test = train_test_split(X, y, test_size=0.2, random_state=101)\n",
    "pca=PCA(n_components=65) \n",
    "pca.fit(X_train) \n",
    "X_train=pca.transform(X_train) \n",
    "X_test=pca.transform(X_test)\n",
    "\n",
    "\n",
    "regressor1 = LinearRegression()  \n",
    "regressor1.fit(X_train, y_train)\n",
    "y_pred = regressor1.predict(X_test) \n",
    "w_publisher_test_results = pd.DataFrame({'Actual': y_test, 'Predicted': y_pred})\n",
    "accuracy = regressor1.score(X_test,y_test)\n",
    "print(accuracy*100,'%')\n",
    "w_publisher_test_results\n"
   ]
  },
  {
   "cell_type": "code",
   "execution_count": null,
   "metadata": {},
   "outputs": [],
   "source": []
  }
 ],
 "metadata": {
  "kernelspec": {
   "display_name": "Python 3",
   "language": "python",
   "name": "python3"
  },
  "language_info": {
   "codemirror_mode": {
    "name": "ipython",
    "version": 3
   },
   "file_extension": ".py",
   "mimetype": "text/x-python",
   "name": "python",
   "nbconvert_exporter": "python",
   "pygments_lexer": "ipython3",
   "version": "3.7.2"
  }
 },
 "nbformat": 4,
 "nbformat_minor": 2
}
